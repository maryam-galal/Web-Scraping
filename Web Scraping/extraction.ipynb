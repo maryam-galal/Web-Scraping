{
 "cells": [
  {
   "cell_type": "code",
   "execution_count": 1,
   "metadata": {},
   "outputs": [
    {
     "name": "stdout",
     "output_type": "stream",
     "text": [
      "Requirement already satisfied: beautifulsoup4 in c:\\downloads\\new folder\\lib\\site-packages (4.12.3)\n",
      "Requirement already satisfied: soupsieve>1.2 in c:\\downloads\\new folder\\lib\\site-packages (from beautifulsoup4) (2.5)\n"
     ]
    }
   ],
   "source": [
    "! pip install beautifulsoup4"
   ]
  },
  {
   "cell_type": "code",
   "execution_count": 3,
   "metadata": {},
   "outputs": [],
   "source": [
    "from bs4 import BeautifulSoup\n",
    "import requests\n",
    "\n",
    "url = \"https://www.baraasallout.com/test.html\"\n",
    "response = requests.get(url)\n",
    "soup = BeautifulSoup(response.content, \"html.parser\")\n",
    "# htmlfilepath = \"Web Scraping Task with Form.html\"\n",
    "# with open(htmlfilepath, \"r\", encoding=\"utf-8\") as file:\n",
    "#     html_content = file.read()\n",
    "# soup = BeautifulSoup(html_content, \"html.parser\")"
   ]
  },
  {
   "cell_type": "code",
   "execution_count": 5,
   "metadata": {},
   "outputs": [
    {
     "name": "stdout",
     "output_type": "stream",
     "text": [
      "Headings:\n",
      "['Web Scraping Practice', 'Available Products', 'Product Table', 'Watch This Video', 'Contact Us', 'Product Information', 'Featured Products']\n"
     ]
    }
   ],
   "source": [
    "headings = [h.get_text(strip=True) for h in soup.find_all(['h1', 'h2'])]\n",
    "print(\"Headings:\")\n",
    "print(headings)"
   ]
  },
  {
   "cell_type": "code",
   "execution_count": 6,
   "metadata": {},
   "outputs": [
    {
     "name": "stdout",
     "output_type": "stream",
     "text": [
      "paragraphs: \n",
      "['Welcome to the web scraping task! Use your skills to extract the required data from this page.', 'Sharp Objects', '£47.82', '✔ In stock', 'In a Dark, Dark Wood', '£19.63', '✔ In stock', 'The Past Never Ends', '£56.50', '✔ In stock', 'A Murder in Time', '£16.64', 'Out stock', 'Wireless Headphones', '$49.99', 'Available colors: Black, White, Blue', 'Smart Speaker', '$89.99', 'Available colors: Grey, Black', 'Smart Watch', '$149.99', 'Available colors: Black, Silver, Gold', '© 2024 Web Scraping Practice. All Rights Reserved.']\n",
      "list_items: \n",
      "['Laptop', 'Smartphone', 'Tablet', 'Smartwatch']\n"
     ]
    }
   ],
   "source": [
    "paragraphs = [tag.get_text(strip=True) for tag in soup.find_all('p')]\n",
    "print(\"paragraphs: \")\n",
    "print(paragraphs)\n",
    "list_items = [tag.get_text(strip=True) for tag in soup.find_all('li')]\n",
    "print(\"list_items: \")\n",
    "print(list_items)"
   ]
  },
  {
   "cell_type": "code",
   "execution_count": 7,
   "metadata": {},
   "outputs": [],
   "source": [
    "import csv\n",
    "with open('Extract_Text_Data.csv', mode='w', newline='', encoding='utf-8') as file:\n",
    "    writer = csv.writer(file)\n",
    "    header = [\"Type\", \"Content\"]\n",
    "    writer.writerow(header)\n",
    "    for heading in headings:\n",
    "        writer.writerow([\"Heading\", heading])\n",
    "    for paragraph in paragraphs:\n",
    "        writer.writerow([\"Paragraph\", paragraph])\n",
    "    for list_item in list_items:\n",
    "        writer.writerow([\"List Item\", list_item])"
   ]
  },
  {
   "cell_type": "code",
   "execution_count": 8,
   "metadata": {},
   "outputs": [],
   "source": [
    "data = []\n",
    "table = soup.find(\"table\") \n",
    "headers = [h.get_text(strip=True) for h in table.find_all(\"th\")]\n",
    "rows = table.find_all(\"tr\")[1:] \n",
    "for row in rows:\n",
    "    r = row.find_all(\"td\")\n",
    "    data.append([i.get_text(strip=True) for i in r])\n",
    "with open(\"Extract_Text_Data.csv\", mode=\"w\", encoding=\"utf-8\", newline=\"\") as file:\n",
    "    writer = csv.writer(file)\n",
    "    writer.writerow(headers) \n",
    "    writer.writerows(data)"
   ]
  }
 ],
 "metadata": {
  "kernelspec": {
   "display_name": "base",
   "language": "python",
   "name": "python3"
  },
  "language_info": {
   "codemirror_mode": {
    "name": "ipython",
    "version": 3
   },
   "file_extension": ".py",
   "mimetype": "text/x-python",
   "name": "python",
   "nbconvert_exporter": "python",
   "pygments_lexer": "ipython3",
   "version": "3.12.7"
  }
 },
 "nbformat": 4,
 "nbformat_minor": 2
}
